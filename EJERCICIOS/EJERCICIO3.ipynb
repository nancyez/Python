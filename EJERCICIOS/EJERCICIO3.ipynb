{
 "cells": [
  {
   "cell_type": "markdown",
   "metadata": {},
   "source": [
    "# Ejercicio Listas\n",
    "Vamos a crear y manipular una lista que contiene nombres de alumnos, esta lista contedrá los nombres siguientes: 'Juan','Pedro','Beatriz','Angel','Miguel','Paz'"
   ]
  },
  {
   "cell_type": "code",
   "execution_count": 15,
   "metadata": {},
   "outputs": [],
   "source": [
    "#Crea aqui la lista alumnos e imprime la lista"
  
  },
  {
   "cell_type": "markdown",
   "metadata": {},
   "source": [
    "## Solicita al usuario el nombre de un alumno\n",
    "A continuación, agrega el código para solicitar al usuario un nombre. Debido a que las cadenas distinguen entre mayúsculas y minúsculas en Python, píde al usuario que use una letra mayúscula para comenzar el nombre del alumno."
   ]
  },
  {
   "cell_type": "code",
   "execution_count": 19,
   "metadata": {},
   "outputs": [],
   "source": [
    "# Aqui crea el código que ingresara elementos a la lista, ingresa tú nombre a la lista vía consola (usando input)\n"
   ]
  },
  {
   "cell_type": "code",
   "execution_count": null,
   "metadata": {},
   "outputs": [],
   "source": [
    "#imprime la lista para ver su contenido\n"
   ]
  },
  {
   "cell_type": "markdown",
   "metadata": {},
   "source": [
    "## Solicita al usuario el nombre de un alumno a buscar en la lista\n",
    "A continuación, agrega el código para solicitar al usuario un nombre, igresa tu nombre."
   ]
  },
  {
   "cell_type": "code",
   "execution_count": 21,
   "metadata": {},
   "outputs": [],
   "source": [
    "# igresa aquí el código para solicitar se ingrese el nombre de un alumno a buscar(que sea tu nombre el que se va a buscar)\n"
   ]
  },
  {
   "cell_type": "markdown",
   "metadata": {},
   "source": [
    "\n",
    "### Encuentra el alumno en la lista\n",
    "Para determinar qué alumno están más cerca que el que ingresó el usuario, debes encontrar dónde está el usuario en la lista. Puedes utilizar index para realizar esta operación. Agrega el código para encontrar el índice del alumno. (ingresa algún alumno que este en la lista)"
   ]
  },
  {
   "cell_type": "code",
   "execution_count": null,
   "metadata": {},
   "outputs": [],
   "source": [
    "# Busca el alumno en la lista e imprime la leyenda 'se ha encontrado al alumno (nombre del alumno)en la lista'\n",
    "\n"
   ]
  },
  {
   "cell_type": "markdown",
   "metadata": {},
   "source": [
    "# DICCIONARIOS\n",
    "Para este ejercicio, crearás un diccionario que almacene información sobre paises y su población.\n",
    "\n",
    "Agrega el código para crear un nuevo diccionario denominado 'paises'. Rellena con la siguiente información:\n",
    "\n",
    "pais: México\n",
    "\n",
    "habitantes: 127.5 "
   ]
  },
  {
   "cell_type": "code",
   "execution_count": null,
   "metadata": {},
   "outputs": [],
   "source": [
    "\n",
    "# crea aqui el diccionario\n",
    "\n",
    "\n"
   ]
  },
  {
   "cell_type": "markdown",
   "metadata": {},
   "source": [
    "Para recuperar valores, puede utilizar el método get o corchetes ([ ]) con el nombre de la clave que desea recuperar."
   ]
  },
  {
   "cell_type": "code",
   "execution_count": null,
   "metadata": {},
   "outputs": [],
   "source": [
    "# Muestra el nombre del pais y el número de millones de habitantes que tiene.\n",
    "# formato: México tiene 125.5 millones de habitantes\n"
   ]
  },
  {
   "cell_type": "markdown",
   "metadata": {},
   "source": [
    "Puedes actualizar las claves existentes o crear otras nuevas utilizando el método update o entre corchetes ([ ]). Cuando se usa update, se pasa un nuevo objeto de diccionario con los valores actualizados o nuevos. Cuando se usan corchetes, se especifica el nombre de la clave y se asigna un nuevo valor.\n",
    "\n",
    "Agrega un nuevo valor con una clave de 'datos'. Este nuevo valor debería almacenar un diccionario con dos datos del país:\n",
    "\n",
    "idioma: 'español'\n",
    "\n",
    "moneda: 'peso'"
   ]
  },
  {
   "cell_type": "code",
   "execution_count": 7,
   "metadata": {},
   "outputs": [],
   "source": [
    "#agrega aqui la clave de datos proporcionados\n"
   ]
  },
  {
   "cell_type": "code",
   "execution_count": null,
   "metadata": {},
   "outputs": [],
   "source": [
    "# imprime el nombre del país con sus datos adicionales\n",
    "# formato: México tiene como moneda el pesoy como idioma el español\n"
   ]
  },
  {
   "cell_type": "markdown",
   "metadata": {},
   "source": [
    "Recuerda: Lo importante es intentarlo, puedes auxiliarte del github, internet, libros, etc.\n"
   ]
  },
  {
   "cell_type": "markdown",
   "metadata": {},
   "source": [
    "## SOLUCION LISTAS\n",
    "Aqui esta la solución propuesta al ejercicio, recurre a ella no sin antes tratar de solucionar el ejercicio"
   ]
  },
  {
   "cell_type": "code",
   "execution_count": null,
   "metadata": {},
   "outputs": [],
   "source": [
    "#Crea aqui la lista alumnos\n",
    "alumnos = ['Juan','Pedro','Beatriz','Angel','Miguel','Paz']\n",
    "print(alumnos)"
   ]
  },
  {
   "cell_type": "code",
   "execution_count": null,
   "metadata": {},
   "outputs": [],
   "source": [
    "# Aqui crea el código que ingresara elementos a la lista, ingresa tú nombres a la lista vía consola (usando input)\n",
    "alumnos.append(input('ingresa el nombre del alumno a ingresar, comenzado con mayúscula'))"
   ]
  },
  {
   "cell_type": "code",
   "execution_count": null,
   "metadata": {},
   "outputs": [],
   "source": [
    "#imprimimos la lista para comprobar se hayan ingresado los datos\n",
    "print(alumnos)"
   ]
  },
  {
   "cell_type": "code",
   "execution_count": null,
   "metadata": {},
   "outputs": [],
   "source": [
    "# igresa aquí el código para solicitar se ingrese el nombre de un alumno a buscar\n",
    "alumno_a_buscar = input('Ingresa el nombre del alumno a buscar en la lista(primera letra en mayúscula)')"
   ]
  },
  {
   "cell_type": "code",
   "execution_count": null,
   "metadata": {},
   "outputs": [],
   "source": [
    "# Busca el alumno en la lista e imprime la leyenda 'se ha encontrado al alumno (nombre del alumno)en la lista'\n",
    "\n",
    "alumno_index = alumnos.index(alumno_a_buscar)\n",
    "print('El alumno ',alumno_a_buscar,' si esta en la lista' )"
   ]
  },
  {
   "cell_type": "markdown",
   "metadata": {},
   "source": [
    "# SOLUCION DICCIONARIOS"
   ]
  },
  {
   "cell_type": "code",
   "execution_count": null,
   "metadata": {},
   "outputs": [],
   "source": [
    "# crea aqui el diccionario\n",
    "paises = {\n",
    "    'pais': 'México',\n",
    "    'habitantes': 125.5\n",
    "}\n"
   ]
  },
  {
   "cell_type": "code",
   "execution_count": null,
   "metadata": {},
   "outputs": [],
   "source": [
    "# Muestra el nombre del pais y el número de millones de habitantes que tiene.\n",
    "# formato: México tiene 125.5 millones de habitantes\n",
    "print(f'{paises[\"pais\"]} tiene {paises[\"habitantes\"]} millones de habitantes')"
   ]
  },
  {
   "cell_type": "code",
   "execution_count": null,
   "metadata": {},
   "outputs": [],
   "source": [
    "#agrega aqui la clave de datos proporcionados\n",
    "paises['datos'] = {\n",
    "    'idioma': 'español',\n",
    "    'moneda': 'peso'\n",
    "}"
   ]
  },
  {
   "cell_type": "code",
   "execution_count": null,
   "metadata": {},
   "outputs": [],
   "source": [
    "# imprime el nombre del país con sus datos adicionales\n",
    "# formato: México tiene como moneda el pesoy como idioma el español\n",
    "print(f'{paises[\"pais\"]} tiene como moneda el {paises[\"datos\"][\"moneda\"]} y como idioma el {paises[\"datos\"][\"idioma\"]}')"
   ]
  }
 ],
 "metadata": {
  "kernelspec": {
   "display_name": "Python 3.10.2 64-bit",
   "language": "python",
   "name": "python3"
  },
  "language_info": {
   "codemirror_mode": {
    "name": "ipython",
    "version": 3
   },
   "file_extension": ".py",
   "mimetype": "text/x-python",
   "name": "python",
   "nbconvert_exporter": "python",
   "pygments_lexer": "ipython3",
   "version": "3.10.2"
  },
  "orig_nbformat": 4,
  "vscode": {
   "interpreter": {
    "hash": "8156a36ef2b5e5cc1ebda271ff76bc51e3d60fa787ad119300a3a2fb77f01d4c"
   }
  }
 },
 "nbformat": 4,
 "nbformat_minor": 2
}
