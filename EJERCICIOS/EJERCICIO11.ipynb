{
  "nbformat": 4,
  "nbformat_minor": 0,
  "metadata": {
    "colab": {
      "name": "EJERCICIO11.ipynb",
      "provenance": [],
      "collapsed_sections": []
    },
    "kernelspec": {
      "name": "python3",
      "display_name": "Python 3"
    },
    "language_info": {
      "name": "python"
    }
  },
  "cells": [
    {
      "cell_type": "markdown",
      "source": [
        "## 1. Crea una exepción para cuando se solicite la consulta de un elemento que no este en la lista  [1, 2, 3, 4, 5]"
      ],
      "metadata": {
        "id": "je4xiLRs_By6"
      }
    },
    {
      "cell_type": "code",
      "source": [
        "try:\n",
        "    lista = [1, 2, 3, 4, 5]\n",
        "    lista[10]\n",
        "\n",
        "except IndexError:\n",
        "    print(\"ERROR: acceso a índice incorrecto en lista\")\n",
        "else:\n",
        "    print(\"Manejo de listas correcto\")\n",
        "finally:\n",
        "    print(\"Fin del bloque try\")"
      ],
      "metadata": {
        "id": "7ZpsOauD-_8b"
      },
      "execution_count": null,
      "outputs": []
    },
    {
      "cell_type": "markdown",
      "source": [
        "## 2. Partimos de la siguiente lista:\n",
        "\n",
        "    lista=['gato', 'perro', 'ratón', 'pato', 'elefante']\n",
        "\n",
        "Crea un programa que solicite el índice de un elemento de la lista y que a continuación\n",
        "muestre dicho elemento por pantalla.\n",
        "\n",
        "ejemplo\n",
        "\n",
        "    Introduce el índice del elemento de la lista que quieres mostrar por pantalla:3\n",
        "    pato\n",
        "\n",
        "En caso de que el índice sea un número entero demasiado mayor (>4) se producirá un error.\n",
        "\n",
        "Crea una excepción para evitar que el programa se bloquee y que explique al usuario la causa\n",
        "y solución.\n",
        "\n",
        "    Introduce el índice del elemento de la lista que quieres mostrar por pantalla:5\n",
        "    El índice se encuentra fuera del rango.\n",
        "    Debes utilizar un número mayor o igual que cero y menor que la longitud de la\n",
        "    lista."
      ],
      "metadata": {
        "id": "nzLUwggL_WFw"
      }
    },
    {
      "cell_type": "code",
      "source": [
        "#Tú código aquí"
      ],
      "metadata": {
        "id": "y3WoPaRq_eJy"
      },
      "execution_count": null,
      "outputs": []
    },
    {
      "cell_type": "markdown",
      "source": [
        "## 3. Crea una exepción para un programa que solicite un número por teclado, el que se recibirá como texto sin convertir a entrero, y se le sume otro número también ingresado por consola pero el cual si se convierte a entero."
      ],
      "metadata": {
        "id": "7SHD0JkO_tlH"
      }
    },
    {
      "cell_type": "markdown",
      "source": [
        ""
      ],
      "metadata": {
        "id": "VVZgH3wPCryT"
      }
    },
    {
      "cell_type": "code",
      "source": [
        ""
      ],
      "metadata": {
        "id": "dIr41MeiDO2K"
      },
      "execution_count": null,
      "outputs": []
    },
    {
      "cell_type": "code",
      "source": [
        "#Tú código aquí"
      ],
      "metadata": {
        "id": "7z5aDdx2AqLx"
      },
      "execution_count": null,
      "outputs": []
    },
    {
      "cell_type": "markdown",
      "source": [
        "## 4. Realiza una función llamada agregar_una_vez(lista, elemento) que reciba una lista y un elemento. La función debe añadir el elemento al final de la lista con la condición de no repetir ningún elemento. Además si este elemento ya se encuentra en la lista se debe invocar un error de tipo ValueError que debes capturar y mostrar este mensaje en su lugar (usar raise):\n",
        "\n",
        "      Error: El elemento ya existe en la lista."
      ],
      "metadata": {
        "id": "2X6VEuydClmo"
      }
    },
    {
      "cell_type": "code",
      "source": [
        "#Tu código aquí"
      ],
      "metadata": {
        "id": "93rchFbXCslU"
      },
      "execution_count": null,
      "outputs": []
    },
    {
      "cell_type": "markdown",
      "source": [
        "# SOLUCIONES"
      ],
      "metadata": {
        "id": "7vsfUG0nAr3U"
      }
    },
    {
      "cell_type": "code",
      "source": [
        "\n",
        "try:\n",
        "  lista=['gato', 'perro', 'ratón', 'pato', 'elefante']\n",
        "  indice=int(input('Introduce el índice del elemento de la lista que quieres mostrar por pantalla'))\n",
        "  print(lista[indice])\n",
        "except IndexError:\n",
        "    print(\"El índice se encuentra fuera del rango. \\nDebes utilizar un número mayor o igual que cero y menor que la longitud de la lista. \")\n",
        "else:\n",
        "    print(\"Manejo de listas correcto\")\n"
      ],
      "metadata": {
        "id": "qnp56tVRBQrf"
      },
      "execution_count": null,
      "outputs": []
    },
    {
      "cell_type": "code",
      "source": [
        "numero1=input('ingresa otro numero')\n",
        "numero2=int(input('ingresa un número'))\n",
        "try:\n",
        "    resultado = numero1 + numero2\n",
        "except TypeError:\n",
        "    print(\"ERROR: intento de suma de número y cadena\")\n",
        "else:\n",
        "    print(\"Operación realizada correctamente\")\n",
        "finally:\n",
        "    print(\"Fin del bloque try\")"
      ],
      "metadata": {
        "id": "KiZbCxvJAAFt"
      },
      "execution_count": null,
      "outputs": []
    },
    {
      "cell_type": "code",
      "source": [
        "elementos = [1, 5, -2]\n",
        "\n",
        "def agregar_una_vez(elemento):\n",
        "    try: \n",
        "        \n",
        "        if elemento in elementos:\n",
        "            raise ValueError()\n",
        "        else:\n",
        "            elementos.append(elemento)\n",
        "            \n",
        "\n",
        "    except  ValueError:\n",
        "        print(\"Error: El elemento ya existe en la lista.\")\n",
        "agregar_una_vez(1)\n",
        "print(elementos)"
      ],
      "metadata": {
        "id": "UeTM4zKTICB8"
      },
      "execution_count": null,
      "outputs": []
    }
  ]
}