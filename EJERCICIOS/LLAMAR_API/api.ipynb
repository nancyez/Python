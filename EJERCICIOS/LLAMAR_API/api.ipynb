{
  "nbformat": 4,
  "nbformat_minor": 0,
  "metadata": {
    "colab": {
      "name": "api.ipynb",
      "provenance": [],
      "collapsed_sections": []
    },
    "kernelspec": {
      "name": "python3",
      "display_name": "Python 3"
    },
    "language_info": {
      "name": "python"
    }
  },
  "cells": [
    {
      "cell_type": "markdown",
      "source": [
        "# Este código le mostrará cómo llamar a la API de Computer Vision desde Python\n",
        "Puedes encontrar documentación sobre el método Computer Vision Analyze Image aquí https://westus.dev.cognitive.microsoft.com/docs/services/5adf991815e1060e6355ad44/operations/56f91f2e778daf14a499e1fa\n",
        "\n",
        "## Usamos la biblioteca de solicitudes para simplificar la realización de una llamada API REST desde Python"
      ],
      "metadata": {
        "id": "Et6JU4RfJ4PQ"
      }
    },
    {
      "cell_type": "code",
      "execution_count": 1,
      "metadata": {
        "id": "4PJzmbuMJ0Kf"
      },
      "outputs": [],
      "source": [
        "import requests"
      ]
    },
    {
      "cell_type": "markdown",
      "source": [
        " Necesitaremos la biblioteca json para leer los datos devueltos por el servicio web"
      ],
      "metadata": {
        "id": "hUbpjP4rKVU-"
      }
    },
    {
      "cell_type": "code",
      "source": [
        "import json"
      ],
      "metadata": {
        "id": "Cuy1kJE7KZyI"
      },
      "execution_count": 2,
      "outputs": []
    },
    {
      "cell_type": "markdown",
      "source": [
        "Ingresamos la clave proporcionada por el servicio"
      ],
      "metadata": {
        "id": "9Ce8OpTVKnwz"
      }
    },
    {
      "cell_type": "code",
      "source": [
        "SUBSCRIPTION_KEY = '825d2e70998547e7bdd5fe852ceabcaf'"
      ],
      "metadata": {
        "id": "xYy0R2RjKsjk"
      },
      "execution_count": 3,
      "outputs": []
    },
    {
      "cell_type": "markdown",
      "source": [
        "Ahora la dirección del servicio, si vemos en la documentación nos pide agreguemos a la dirección el complemento vision/v2.0/analyze/"
      ],
      "metadata": {
        "id": "l5RsoaMeK0II"
      }
    },
    {
      "cell_type": "code",
      "source": [
        "vision_service_address = \"https://analisisdeimagenprueba.cognitiveservices.azure.com/vision/v2.0/analyze/\""
      ],
      "metadata": {
        "id": "f3pu9gEKK38D"
      },
      "execution_count": 4,
      "outputs": []
    },
    {
      "cell_type": "markdown",
      "source": [
        "Según la documentación de la función de análisis de imagen \n",
        "Hay tres parámetros opcionales: idioma, detalles y características visuales"
      ],
      "metadata": {
        "id": "EIjvvEvnLW9L"
      }
    },
    {
      "cell_type": "code",
      "source": [
        "parameters  = {'visualFeatures':'Description,Color,ImageType','language':'es'}"
      ],
      "metadata": {
        "id": "vU55eoLsLagT"
      },
      "execution_count": 5,
      "outputs": []
    },
    {
      "cell_type": "markdown",
      "source": [
        "\n",
        "Abra el archivo de imagen para obtener un objeto de archivo que contenga la imagen para analizar, en este caso al usar colab debemos subir la imagen al espacio de colab, para ello importamos la libreria y al ejecutar nospedirá escoger la imagen, la ruta donde se guarda en la nube de colab es /content"
      ],
      "metadata": {
        "id": "WYXjqN2SLrmE"
      }
    },
    {
      "cell_type": "code",
      "source": [
        "from google.colab import files\n",
        " \n",
        "files.upload()  "
      ],
      "metadata": {
        "id": "xYpN42m4dp5v"
      },
      "execution_count": null,
      "outputs": []
    },
    {
      "cell_type": "code",
      "source": [
        "image_path = \"/content/\"\n",
        "image_data = open(image_path, \"rb\").read()\n"
      ],
      "metadata": {
        "id": "eTnqR8s-L4Ge"
      },
      "execution_count": 7,
      "outputs": []
    },
    {
      "cell_type": "markdown",
      "source": [
        "Según la documentación de la función de análisis de imagen\n",
        "necesitamos especificar la clave de suscripción y el tipo de contenido"
      ],
      "metadata": {
        "id": "PBlSiZ5Ofn2G"
      }
    },
    {
      "cell_type": "code",
      "source": [
        "headers    = {'Content-Type': 'application/octet-stream',\n",
        "              'Ocp-Apim-Subscription-Key': SUBSCRIPTION_KEY}"
      ],
      "metadata": {
        "id": "GMlk5vPcTXE6"
      },
      "execution_count": 8,
      "outputs": []
    },
    {
      "cell_type": "markdown",
      "source": [
        "Según la documentación de la función de análisis de imagen\n",
        "usamos HTTP POST para llamar a esta función"
      ],
      "metadata": {
        "id": "GRM_0OE9fxAP"
      }
    },
    {
      "cell_type": "code",
      "source": [
        "response = requests.post(vision_service_address, headers=headers, params=parameters, data=image_data)"
      ],
      "metadata": {
        "id": "-oqnpFonTZ3r"
      },
      "execution_count": 11,
      "outputs": []
    },
    {
      "cell_type": "markdown",
      "source": [
        "Mostrar los resultados JSON devueltos"
      ],
      "metadata": {
        "id": "jvOWVhaFgFCm"
      }
    },
    {
      "cell_type": "code",
      "source": [
        "results = response.json()\n",
        "print(json.dumps(results))"
      ],
      "metadata": {
        "colab": {
          "base_uri": "https://localhost:8080/"
        },
        "id": "EJ4EkLYCTfHX",
        "outputId": "4d91c752-618c-42fc-cff6-4d4d85b3317f"
      },
      "execution_count": 12,
      "outputs": [
        {
          "output_type": "stream",
          "name": "stdout",
          "text": [
            "{\"color\": {\"dominantColorForeground\": \"Brown\", \"dominantColorBackground\": \"Brown\", \"dominantColors\": [\"Brown\"], \"accentColor\": \"C37008\", \"isBwImg\": false, \"isBWImg\": false}, \"imageType\": {\"clipArtType\": 0, \"lineDrawingType\": 0}, \"description\": {\"tags\": [\"mammal\", \"animal\", \"cat\", \"lion\", \"brown\", \"dog\", \"looking\", \"wearing\", \"face\", \"hair\", \"sitting\", \"front\", \"neck\", \"standing\", \"camera\", \"close\", \"mouth\", \"head\", \"eyes\", \"blue\", \"man\"], \"captions\": [{\"text\": \"a lion looking at the camera\", \"confidence\": 0.9795057655921443}]}, \"requestId\": \"8fcd6a26-b9f9-4081-8d93-bce168dd7cb9\", \"metadata\": {\"height\": 579, \"width\": 1130, \"format\": \"Png\"}}\n"
          ]
        }
      ]
    }
  ]
}