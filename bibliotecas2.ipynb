{
  "nbformat": 4,
  "nbformat_minor": 0,
  "metadata": {
    "colab": {
      "name": "bibliotecas2.ipynb",
      "provenance": []
    },
    "kernelspec": {
      "name": "python3",
      "display_name": "Python 3"
    },
    "language_info": {
      "name": "python"
    }
  },
  "cells": [
    {
      "cell_type": "markdown",
      "source": [
        "Biblioteca ipwidwets para crear un botón"
      ],
      "metadata": {
        "id": "EjDPxG4v3lj2"
      }
    },
    {
      "cell_type": "code",
      "execution_count": null,
      "metadata": {
        "id": "zwp-KmE53YQk"
      },
      "outputs": [],
      "source": [
        "import ipywidgets as widgets\n",
        "\n",
        "activacion = widgets.ToggleButton(\n",
        "    value=False,\n",
        "    description='Iniciar boton',\n",
        "    button_style='primary', #este indica el color\n",
        "    icon='rocket' #el icono que utilizará, hay un catálogo de iconos\n",
        ")\n",
        "\n",
        "output = widgets.Output()\n",
        "\n",
        "display(activacion, output)\n",
        "\n",
        "def cambio_de_valores(change):\n",
        "    with output:\n",
        "        if change['new'] == True:\n",
        "            print(\"Botón Iniciado!\")\n",
        "        else:   \n",
        "            print(\"Botón Detenido\")\n",
        "\n",
        "activacion.observe(cambio_de_valores, names='value')"
      ]
    },
    {
      "cell_type": "markdown",
      "source": [
        "Usando numpy y matplotlib para gráficar 10 numeros enteros, al azar, en un rango del 1 al 10"
      ],
      "metadata": {
        "id": "KYdf-1wE4g8I"
      }
    },
    {
      "cell_type": "code",
      "source": [
        "import numpy as np\n",
        "import matplotlib.pyplot as plt\n",
        "dato = np.random.default_rng()\n",
        "variacion = dato.integers(low=1, high=10, size=10)\n",
        "\n",
        "plt.bar(range(len(variacion)), variacion)\n",
        "plt.show()"
      ],
      "metadata": {
        "id": "P7QD1XZe4d4_"
      },
      "execution_count": null,
      "outputs": []
    },
    {
      "cell_type": "markdown",
      "source": [
        "En este ejemplo si quisieramos importar colorama para \"ilumina\" la salida de un dato nos marcará error en la importación y nos indicara instalar la biblioteca o módulo"
      ],
      "metadata": {
        "id": "THMVn7qM7S67"
      }
    },
    {
      "cell_type": "code",
      "source": [
        "import colorama\n",
        "\n",
        "colorama.init()\n",
        "print(colorama.Fore.RED + 'This is red')\n",
        "\n",
        "from colorama import *\n",
        "\n",
        "init()\n",
        "print(Fore.BLUE + 'This is blue')\n",
        "\n",
        "from colorama import init, Fore\n",
        "print(Fore.GREEN + 'This is green')"
      ],
      "metadata": {
        "id": "8JS0Ai4f698i"
      },
      "execution_count": null,
      "outputs": []
    }
  ]
}