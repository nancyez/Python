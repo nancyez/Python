{
  "nbformat": 4,
  "nbformat_minor": 0,
  "metadata": {
    "colab": {
      "name": "Untitled0.ipynb",
      "provenance": []
    },
    "kernelspec": {
      "name": "python3",
      "display_name": "Python 3"
    },
    "language_info": {
      "name": "python"
    }
  },
  "cells": [
    {
      "cell_type": "markdown",
      "source": [
        ""
      ],
      "metadata": {
        "id": "P9N3KmmQEo1-"
      }
    },
    {
      "cell_type": "markdown",
      "source": [
        "## Lógica Booleana\n",
        "\n",
        "### Escribir declaraciones 'if'\n",
        "\n",
        "Para expresar la lógica condicional en Python, se utilizan instrucciones ```if ```. Cuando escribes una declaración ```if```, confías en otro concepto que cubrimos en este módulo, los operadores matemáticos. Python admite los operadores lógicos comunes de las matemáticas: igual, no igual, menor que, menor que o igual a, mayor que y mayor que o igual a.\n",
        "\n",
        "Debes usar una instrucción ```if``` para ejecutar código solo si se cumple una determinada condición."
      ],
      "metadata": {
        "id": "VjJC7qp5EqYb"
      }
    },
    {
      "cell_type": "code",
      "source": [
        "a = 97\n",
        "b = 55\n",
        "if a < b:\n",
        "    print(b)"
      ],
      "metadata": {
        "colab": {
          "base_uri": "https://localhost:8080/"
        },
        "id": "7eGMNbvaFHbm",
        "outputId": "76e00fbe-adec-453b-e95a-e8612c04862c"
      },
      "execution_count": 5,
      "outputs": [
        {
          "output_type": "stream",
          "name": "stdout",
          "text": [
            "55\n"
          ]
        }
      ]
    },
    {
      "cell_type": "markdown",
      "source": [
        "El programa evalúa la expresión de prueba y, a continuación, ejecuta el código dentro de la instrucción ``if`` sólo si la expresión de prueba es ``True (Verdadera)``. Si evalúa la expresión, sabe que es ``False (Falso)``, no se ejecutará ningún código que escriba en la instrucción ``if``.\n",
        "\n",
        "### Escribir declaraciones ``if``\n",
        "\n",
        "Utiliza una instrucción ``if`` si deseas ejecutar código sólo si se cumple una determinada condición. La sintaxis de una instrucción ``if`` es siempre:\n",
        "\n",
        "```\n",
        "if expresion_prueba:\n",
        "    # intrucción(es) a ejecutar\n",
        "```\n"
      ],
      "metadata": {
        "id": "tNf6aW0KGKG7"
      }
    },
    {
      "cell_type": "markdown",
      "source": [
        "En Python, el cuerpo de una instrucción ``if`` debe tener [sangría](https://es.wikipedia.org/wiki/Sangr%C3%ADa_(tipograf%C3%ADa)) . Siempre se ejecutará cualquier código que siga a una expresión de prueba que no tenga sangría:\n"
      ],
      "metadata": {
        "id": "kS4EwttdGxru"
      }
    },
    {
      "cell_type": "code",
      "source": [
        "\n",
        "a = 24\n",
        "b = 44\n",
        "if a <= 0:\n",
        "    print(a)\n",
        "print(b)\n"
      ],
      "metadata": {
        "colab": {
          "base_uri": "https://localhost:8080/"
        },
        "id": "nwSeCYrNHJxF",
        "outputId": "37e61491-7c9d-4546-c6ec-c293bd03248a"
      },
      "execution_count": 6,
      "outputs": [
        {
          "output_type": "stream",
          "name": "stdout",
          "text": [
            "44\n"
          ]
        }
      ]
    },
    {
      "cell_type": "markdown",
      "source": [
        "\n",
        "En este ejemplo, el ``44`` como resultado se debe a que la expresión de prueba es ``False`` y la instrucción ``print(b)`` no tiene sangría en el mismo nivel que la instrucción ``if``.\n",
        "\n",
        "### ¿Qué son las declaraciones \"else\" y \"elif\"?  \n",
        "\n",
        "¿Qué sucede si también deseas que tu programa ejecute una pieza de código cuando tu expresión de prueba es ``False``? ¿O qué pasa si deseas incluir otra expresión de prueba?.\n",
        "\n",
        "Python tiene otras palabras clave que puedes usar para hacer declaraciones ``if`` más complejas, ``else`` y ``elif`` . Cuando se utiliza ``if``, ``else``, y ``elif`` en combinación, se pueden escribir programas complejos con varias expresiones de prueba y sentencias para ejecutar.\n",
        "\n",
        "### Trabajando con else\n",
        "Cuando utilizas una instrucción, el cuerpo del programa sólo se ejecutará si la expresión de prueba es ``True``. Para agregar más código que se ejecutará cuando la expresión de prueba sea ``False``, debes agregar una instrucción ``else``.\n",
        "\n",
        "Volvamos al ejemplo de la sección anterior:\n",
        "```\n",
        "a = 93\n",
        "b = 27\n",
        "if a >= b:\n",
        "    print(a)\n",
        "```\n",
        "En este ejemplo, si ``a`` no es mayor o igual que ``b``, no pasa nada. Supongamos que desea imprimir ``b`` si la expresión de prueba es ``False``:\n"
      ],
      "metadata": {
        "id": "rHcwicqyHT-1"
      }
    },
    {
      "cell_type": "code",
      "source": [
        "a = 3\n",
        "b = 27\n",
        "if a >= b:\n",
        "    print(a)\n",
        "else:\n",
        "    print(b)"
      ],
      "metadata": {
        "colab": {
          "base_uri": "https://localhost:8080/"
        },
        "id": "zid5SuVEHnv7",
        "outputId": "2a2aff73-9573-435f-ab10-1e0885604dc6"
      },
      "execution_count": 8,
      "outputs": [
        {
          "output_type": "stream",
          "name": "stdout",
          "text": [
            "27\n"
          ]
        }
      ]
    },
    {
      "cell_type": "markdown",
      "source": [
        "Si la expresión de prueba es ``False``, se omite el código del cuerpo de la instrucción ``if`` y el programa continúa ejecutándose desde la instrucción ``else``. La sintaxis de una instrucción ``if/else`` es siempre:\n",
        "\n",
        "```\n",
        "if expresion_prueba:\n",
        "    # instrucción(es) a ejecutar\n",
        "else:\n",
        "    # instrucción(es) a ejecutar\n",
        "```\n",
        "\n",
        "### Trabajando con elif\n",
        "En Python, la palabra clave ``elif`` es la abreviatura de *else if*. El uso de instrucciones ``elif`` te permite agregar varias expresiones de prueba al programa. Estas instrucciones se ejecutan en el orden en que están escritas, por lo que el programa ingresará una instrucción ``elif`` solo si la primera instrucción ``if`` es ``False`` . Por ejemplo:"
      ],
      "metadata": {
        "id": "dGl3updOHx5l"
      }
    },
    {
      "cell_type": "code",
      "source": [
        "a = 93\n",
        "b = 93\n",
        "if a > b:\n",
        "    print(\"a es mayor o igual que b\")\n",
        "elif a == b:\n",
        "    print(\"a es igual que b\")"
      ],
      "metadata": {
        "colab": {
          "base_uri": "https://localhost:8080/"
        },
        "id": "1ziLyShzICbA",
        "outputId": "86f3197f-69eb-4a29-e0f6-208766af6ed6"
      },
      "execution_count": 10,
      "outputs": [
        {
          "output_type": "stream",
          "name": "stdout",
          "text": [
            "a es igual que b\n"
          ]
        }
      ]
    },
    {
      "cell_type": "markdown",
      "source": [
        "### Combinar declaraciones ``if ``, ``elif``, y ``else``\n",
        "\n",
        "Puedes combinar sentencias ``if ``, ``elif``, y ``else`` para crear programas con lógica condicional compleja. Recuerda que una instrucción ``elif`` sólo se ejecuta cuando la condición ``if `` es ``False``. También ten en cuenta que un bloque ``if `` puede tener solo un bloque ``else``, pero puede tener varios bloques ``elif``.\n",
        "\n",
        "Veamos el ejemplo de nuevo con una declaración ``elif`` añadida:\n"
      ],
      "metadata": {
        "id": "DMRqlq8ZITAv"
      }
    },
    {
      "cell_type": "code",
      "source": [
        "a = 93\n",
        "b = 93\n",
        "if a > b:\n",
        "    print(\"a es mayor que b\")\n",
        "elif a < b:\n",
        "    print(\"a es menor que b\")\n",
        "else: \n",
        "    print(\"a es igual que b\")"
      ],
      "metadata": {
        "colab": {
          "base_uri": "https://localhost:8080/"
        },
        "id": "Rsg8clwwIWqH",
        "outputId": "987c99a4-0e2d-4c66-adff-c1b4e31bf452"
      },
      "execution_count": 12,
      "outputs": [
        {
          "output_type": "stream",
          "name": "stdout",
          "text": [
            "a es igual que b\n"
          ]
        }
      ]
    },
    {
      "cell_type": "markdown",
      "source": [
        "### Trabajar con lógica condicional anidada\n",
        "\n",
        "Python también admite lógica condicional anidada, lo que significa que puedes anidar sentencias ``if ``, ``elif``, y ``else``, para crear programas aún más complejos. Para anidar condiciones, indenta las condiciones internas y todo lo que esté en el mismo nivel de sangría se ejecutará en el mismo bloque de código:"
      ],
      "metadata": {
        "id": "aspRRX23JdNY"
      }
    },
    {
      "cell_type": "code",
      "source": [
        "a = 16\n",
        "b = 25\n",
        "c = 27\n",
        "if a > b:\n",
        "    if b > c:\n",
        "        print (\"a es mayor que b y b es mayor que c\")\n",
        "    else: \n",
        "        print (\"a es mayor que b y menor que c\")\n",
        "elif a == b:\n",
        "    print (\"a es igual que b\")\n",
        "else:\n",
        "    print (\"a es menor que b\")"
      ],
      "metadata": {
        "id": "uISkAAqNJeid"
      },
      "execution_count": null,
      "outputs": []
    },
    {
      "cell_type": "markdown",
      "source": [
        "### ¿Qué son los operadores 'and' y 'or'?\n",
        "\n",
        "Es posible que ocasionalmente desees combinar expresiones de prueba para evaluar varias condiciones ``if ``, ``elif``, y ``else`` en una instrucción. Para ello, utilizaremos los operadores booleanos ``and`` y ``or``.\n",
        "\n",
        "#### El operador ``or``\n",
        "\n",
        "Puede conectar dos expresiones booleanas o de prueba mediante el operador booleano ``or``. Para que toda la expresión se evalúe en ``True``, al menos una de las subexpresiones debe ser verdadera. Si ninguna de las subexpresiones es verdadera, toda la expresión se evalúa en ``False``. Por ejemplo, en la siguiente expresión, toda la expresión de prueba se evalúa en ``True``, porque se ha cumplido una de las condiciones de las subexpresiones:\n"
      ],
      "metadata": {
        "id": "tDTZ_Ts6Jwtn"
      }
    },
    {
      "cell_type": "code",
      "source": [
        "a = 23\n",
        "b = 34\n",
        "if a == 34 or b == 34:\n",
        "    print(a + b)"
      ],
      "metadata": {
        "id": "0UQhqgSGJ1QQ"
      },
      "execution_count": null,
      "outputs": []
    },
    {
      "cell_type": "markdown",
      "source": [
        "#### El operador ``and``\n",
        "\n",
        "También puedes conectar dos expresiones de prueba mediante el operador booleano ``and``. \n",
        "\n",
        "Ambas condiciones de la expresión de prueba deben ser verdaderas para que toda la expresión de prueba se evalúe en ``True``. En cualquier otro caso, la expresión de prueba es ``False``. En el ejemplo siguiente, toda la expresión de prueba se evalúa en ``False``, porque sólo una de las condiciones de las subexpresiones es ``True``:"
      ],
      "metadata": {
        "id": "PC2SZ2hUJ_DY"
      }
    },
    {
      "cell_type": "code",
      "source": [
        "a = 23\n",
        "b = 34\n",
        "if a == 34 and b == 34:\n",
        "    print (a + b)"
      ],
      "metadata": {
        "id": "z7Oo7nzUKCuu"
      },
      "execution_count": null,
      "outputs": []
    },
    {
      "cell_type": "markdown",
      "source": [
        "#### La diferencia entre ``and`` y ``or``\n",
        "\n",
        "Para resaltar la diferencia entre los dos operadores booleanos, puedes utilizar una tabla de verdad. Una tabla de verdad muestra a qué se evalúa toda la expresión de prueba en función de las dos subexpresiones.\n",
        "\n",
        "Aquí está la tabla de la verdad para: ``and`` \n",
        "\n",
        "subexpresión1 | Operador | subexpresión2 |\tResultado\n",
        "-------- | -------- | -------- | --------\n",
        "``True`` | ``and`` | ``True`` | ``True``\n",
        "``True`` | ``and`` | ``False`` | ``False``\n",
        "``False`` | ``and`` | ``True`` | ``False``\n",
        "``False`` | ``and`` | ``False`` | ``False``\n",
        "\n",
        "Aquí está la tabla de la verdad para: ``or`` \n",
        "\n",
        "subexpresión1 | Operador | subexpresión2 |\tResultado\n",
        "-------- | -------- | -------- | --------\n",
        "``True`` | ``or`` | ``True`` | ``True``\n",
        "``True`` | ``or`` | ``False`` | ``True``\n",
        "``False`` | ``or`` | ``True`` | ``True``\n",
        "``False`` | ``or`` | ``False`` | ``False``"
      ],
      "metadata": {
        "id": "TGoTNmtVKNsI"
      }
    }
  ]
}