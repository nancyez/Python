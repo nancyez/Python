{
  "nbformat": 4,
  "nbformat_minor": 0,
  "metadata": {
    "colab": {
      "name": "Untitled1.ipynb",
      "provenance": []
    },
    "kernelspec": {
      "name": "python3",
      "display_name": "Python 3"
    },
    "language_info": {
      "name": "python"
    }
  },
  "cells": [
    {
      "cell_type": "markdown",
      "source": [
        "## Acerca de los ciclos ``while``\n",
        "\n",
        "Al escribir código, un desafío común es que realices una tarea un número desconocido de veces. En esta unidad, quieres permitir que un usuario escriba una lista de nombres de planetas. Desafortunadamente, no sabes cuántos nombres escribirá el usuario. Para admitir una entrada de usuario o ejecutar una tarea, un número desconocido de veces, puedes usar un ciclo ````while````.\n",
        "\n",
        "Un ciclo ````while```` realiza una operación *mientras* (``while``, en inglés) *una determinada condición es True*. Funcionan para evaluar si hay otra línea en un archivo, si se ha establecido una marca, si un usuario ha terminado de escribir valores o bien ha cambiado algo más para indicar que el código puede dejar de realizar la operación.\n",
        "\n",
        "> Lo más importante que se debe recordar al crear ciclos ````while```` es asegurarse de que cambia la condición. Si la condición siempre es True, Python seguirá ejecutando el código hasta que el programa se bloquee.\n",
        "\n",
        "La sintaxis de un ciclo ``while`` es similar a la de una instrucción ``if``. Proporciona una condición, así como el código que quieres ejecutar mientras la condición sea ``True`` (Oséa, mientras la condición se cumpla o sea verdadera).\n",
        "\n",
        "Un ciclo ``while`` tiene tres partes importantes:\n",
        "\n",
        "* La palabra ``while``, seguida de un espacio.\n",
        "\n",
        "* La condición que se va a probar. Si la condición es True, se ejecutará el código dentro del ciclo ``while``.\n",
        "\n",
        "* El código que quiere ejecutar para cada elemento del objeto iterable, seguido de espacios en blanco anidados. Por ejemplo:\n",
        "\n",
        "```\n",
        "while condition:\n",
        "    # lo que quieres que se ejecute\n",
        "```\n",
        "*Se lee de la siguiente manera: Mientras la condición se cumpla: ejecuta el código*\n",
        "\n",
        "Veamos cómo puedes crear código para pedir a los usuarios que escriban valores y, después, permitirles usar ``alto`` cuando terminen de escribir los valores. En nuestro ejemplo, usaremos la entrada de usuario como condición y, después, la probaremos al principio del ciclo ``while``."
      ],
      "metadata": {
        "id": "mriGu-kKoeKH"
      }
    },
    {
      "cell_type": "code",
      "source": [
        "palabra_ingresada = ''\n",
        "\n",
        "while palabra_ingresada.lower() != 'alto':\n",
        "    palabra_ingresada = input('Ingresa una nueva palabra, si quieres parar ingresa Alto')"
      ],
      "metadata": {
        "colab": {
          "base_uri": "https://localhost:8080/"
        },
        "id": "_-hVYy9bojeh",
        "outputId": "9a315923-98e0-490a-f0fd-395c54276f8e"
      },
      "execution_count": 1,
      "outputs": [
        {
          "name": "stdout",
          "output_type": "stream",
          "text": [
            "Ingresa una nueva palabra, si quieres parar ingresa Altofd\n",
            "Ingresa una nueva palabra, si quieres parar ingresa Altodf\n",
            "Ingresa una nueva palabra, si quieres parar ingresa AltoALTO\n"
          ]
        }
      ]
    },
    {
      "cell_type": "markdown",
      "source": [
        "Tengamos en cuenta que se usa input para preguntar a los usuarios. Cada vez que los usuarios escriben un nuevo valor, cambian la condición, lo que significa que el ciclo while se finalizará una vez que se haya escrito la palabra done, si escribes cualquier otra palabra el ciclo continuará.\n",
        "\n",
        "Puedes usar la cadena recién escrita como lo haríamos con cualquier otra cadena capturada con input. Si quieres agregarla a una lista, puedes usar código similar al ejemplo siguiente:"
      ],
      "metadata": {
        "id": "2-yXmt73pW_V"
      }
    },
    {
      "cell_type": "code",
      "source": [
        "# Creamos la variable que almacena el texto\n",
        "palabra_ingresada = ''\n",
        "# Creamos la lista que almacena cada uno de los textos que el usuario ingresa\n",
        "ingresos = []\n",
        "\n",
        "# Ciclo while\n",
        "while palabra_ingresada.lower() != 'alto':\n",
        "    # Verificamos si hay un valor en palabra_ingresada\n",
        "    if palabra_ingresada:\n",
        "        # Almacenamos ese valor en la lista\n",
        "        ingresos.append(palabra_ingresada)\n",
        "    # Capturamos un nuevo valor\n",
        "    palabra_ingresada = input('Ingresa una palabra, si quieres parar ingresa Alto')"
      ],
      "metadata": {
        "colab": {
          "base_uri": "https://localhost:8080/"
        },
        "id": "CekHr16rpbSH",
        "outputId": "1a26d742-16c1-4602-80c1-92693e5c33cd"
      },
      "execution_count": 7,
      "outputs": [
        {
          "output_type": "stream",
          "name": "stdout",
          "text": [
            "Ingresa una palabra, si quieres parar ingresa Altohola\n",
            "[]\n",
            "Ingresa una palabra, si quieres parar ingresa Altohola\n",
            "['hola']\n",
            "Ingresa una palabra, si quieres parar ingresa Altohola\n",
            "['hola', 'hola']\n",
            "Ingresa una palabra, si quieres parar ingresa Altohola\n",
            "['hola', 'hola', 'hola']\n",
            "Ingresa una palabra, si quieres parar ingresa Altoalto\n",
            "['hola', 'hola', 'hola', 'hola']\n"
          ]
        }
      ]
    },
    {
      "cell_type": "markdown",
      "source": [
        "Observa la instrucción ``if`` dentro del ciclo ``while``. Esta instrucción prueba si hay un valor de cadena dentro de ``palabra_ingresada``. Si el ciclo ``while`` se ejecuta por primera vez, no hay ningún valor, por lo que no hay nada que almacenar en ``ingresos``. Después de que se ejecute por primera vez, ``palabra_ingresada`` siempre conserva el valor que el usuario acaba de escribir. Dado que ``while`` está probando para asegurarse de que el valor no es igual a alto (la palabra que el usuario escribirá para salir de la aplicación), sabe que el valor actual es uno que puede agregar a la lista.\n",
        "\n",
        "> Es posible que en otros lenguajes de programación hayas visto el uso del ciclo 'do', lo que permite realizar una verificación al final del ciclo. En python no existe un ciclo 'do'.\n",
        "\n",
        "### Uso de ciclos ``for`` con listas\n",
        "\n",
        "En Python, las listas pueden almacenar cualquier tipo de valor, como cadenas o números:"
      ],
      "metadata": {
        "id": "AchFwdKcq3w5"
      }
    },
    {
      "cell_type": "code",
      "source": [
        "paises = ['Canada', 'EU', 'México', 'Guatemala', 'Belice', 'Honduras', 'El Salvador', 'Micaragua']"
      ],
      "metadata": {
        "id": "Q63oirUzrKAk"
      },
      "execution_count": null,
      "outputs": []
    },
    {
      "cell_type": "markdown",
      "source": [
        "Puedes acceder a cualquier elemento de una lista poniendo el índice entre corchetes ([]) después del nombre de la variable. Los índices comienzan a partir de 0:"
      ],
      "metadata": {
        "id": "OEs3PN9Eraav"
      }
    },
    {
      "cell_type": "code",
      "source": [
        "print('El primer país es', paises[0])\n",
        "print('El segundo país es', paises[1])\n",
        "print('El tercer país es', paises[2])"
      ],
      "metadata": {
        "id": "1H-Qc2yBreOr"
      },
      "execution_count": null,
      "outputs": []
    },
    {
      "cell_type": "markdown",
      "source": [
        "\n",
        "> Python tiene muchos tipos que se pueden recorrer en ciclo. Estos tipos se conocen como iterables.\n",
        "\n",
        "Las listas de Python son iterables y se pueden usar con un ciclo ``for``. Se usa un ciclo ``for`` con objetos iterables que va a recorrer en ciclo un número conocido de veces, una vez para cada elemento del objeto iterable.\n",
        "\n"
      ],
      "metadata": {
        "id": "IuDVmZXHrmsf"
      }
    },
    {
      "cell_type": "code",
      "source": [
        "paises = ['Canada', 'EU', 'México', 'Guatemala', 'Belice', 'Honduras', 'El Salvador', 'Micaragua']\n",
        "\n",
        "for pais in paises:\n",
        "  print(pais)"
      ],
      "metadata": {
        "colab": {
          "base_uri": "https://localhost:8080/"
        },
        "id": "Pa2XqbCvvc9C",
        "outputId": "fe6cd604-6b15-49c1-ee0e-bae908be10de"
      },
      "execution_count": 12,
      "outputs": [
        {
          "output_type": "stream",
          "name": "stdout",
          "text": [
            "Canada\n",
            "EU\n",
            "México\n",
            "Guatemala\n",
            "Belice\n",
            "Honduras\n",
            "El Salvador\n",
            "Micaragua\n"
          ]
        }
      ]
    },
    {
      "cell_type": "markdown",
      "source": [
        "### Acerca de los ciclos ``for``\n",
        "Este es un ciclo ``for`` de ejemplo que hace una cuenta atrás, de 4 a 0:"
      ],
      "metadata": {
        "id": "yRDEiIRNtHZs"
      }
    },
    {
      "cell_type": "code",
      "source": [
        "conteo = [4, 3, 2, 1, 0]\n",
        "for numero in conteo:\n",
        "    print(numero)\n",
        "print(\"SALIDA!!\")"
      ],
      "metadata": {
        "colab": {
          "base_uri": "https://localhost:8080/"
        },
        "id": "ZT0U0V1ItYzc",
        "outputId": "31c49c10-af23-414c-d36a-ecb3690eb14b"
      },
      "execution_count": 9,
      "outputs": [
        {
          "output_type": "stream",
          "name": "stdout",
          "text": [
            "4\n",
            "3\n",
            "2\n",
            "1\n",
            "0\n",
            "SALIDA!!\n"
          ]
        }
      ]
    },
    {
      "cell_type": "markdown",
      "source": [
        "El ciclo ``for`` es una instrucción con cinco partes importantes:\n",
        "\n",
        "* La palabra ``for``, seguida de un espacio.\n",
        "* El nombre de la variable que quieres crear para cada valor de la secuencia (*numero*).\n",
        "* La palabra ``in``, entre espacios.\n",
        "* El nombre de la lista (*conteo*, en el ejemplo anterior) u objeto iterable que quieres recorrer en ciclo, seguido de dos puntos (``:``).\n",
        "* El código que quieres ejecutar para cada elemento del objeto iterable, separado por espacios en blanco anidados.\n",
        "\n",
        "Vamos a cambiar el código anterior para que espere un segundo entre cada número mediante la función ``sleep()``:\n"
      ],
      "metadata": {
        "id": "JN0oIe6suLLw"
      }
    },
    {
      "cell_type": "code",
      "source": [
        "# De la biblioteca time, importamos (traemos) la clase sleep\n",
        "\n",
        "from time import sleep\n",
        "\n",
        "# Creamos una lista de 5 números llamada conteo\n",
        "conteo = [4, 3, 2, 1, 0]\n",
        "\n",
        "# Para cada número en conteo\n",
        "for numero in conteo:\n",
        "    #Muestra el número\n",
        "    print(numero)\n",
        "\n",
        "    # Espera (1segundo)\n",
        "    sleep(1)\n",
        "\n",
        "# Muestra el mensaje\n",
        "print(\"ARRANCAN!! \")"
      ],
      "metadata": {
        "colab": {
          "base_uri": "https://localhost:8080/"
        },
        "id": "PqeIA0fCueIz",
        "outputId": "9e539878-eeaf-4651-9ae4-4e49670e4265"
      },
      "execution_count": 10,
      "outputs": [
        {
          "output_type": "stream",
          "name": "stdout",
          "text": [
            "4\n",
            "3\n",
            "2\n",
            "1\n",
            "0\n",
            "ARRANCAN!! \n"
          ]
        }
      ]
    }
  ]
}